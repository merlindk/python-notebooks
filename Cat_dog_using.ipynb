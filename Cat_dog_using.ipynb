{
  "nbformat": 4,
  "nbformat_minor": 0,
  "metadata": {
    "colab": {
      "name": "Cat-dog-using.ipynb",
      "provenance": [],
      "include_colab_link": true
    },
    "kernelspec": {
      "name": "python3",
      "display_name": "Python 3"
    }
  },
  "cells": [
    {
      "cell_type": "markdown",
      "metadata": {
        "id": "view-in-github",
        "colab_type": "text"
      },
      "source": [
        "<a href=\"https://colab.research.google.com/github/merlindk/python-notebooks/blob/master/Cat_dog_using.ipynb\" target=\"_parent\"><img src=\"https://colab.research.google.com/assets/colab-badge.svg\" alt=\"Open In Colab\"/></a>"
      ]
    },
    {
      "cell_type": "code",
      "metadata": {
        "id": "Wpt5eX3VijSy",
        "colab_type": "code",
        "outputId": "a64d620f-f4fa-49d5-c4f9-abce249b7f66",
        "colab": {
          "base_uri": "https://localhost:8080/",
          "height": 88
        }
      },
      "source": [
        "import cv2\n",
        "import tensorflow as tf\n",
        "from google.colab import drive\n",
        "\n",
        "drive.mount('/content/gdrive')\n",
        "\n",
        "CATEGORIES = [\"Dog\", \"Cat\"]\n",
        "\n",
        "def prepare(filepath):\n",
        "  IMG_SIZE = 100\n",
        "  img_array = cv2.imread(filepath, cv2.IMREAD_GRAYSCALE)\n",
        "  new_array = cv2.resize(img_array, (IMG_SIZE, IMG_SIZE))\n",
        "  return new_array.reshape(-1, IMG_SIZE, IMG_SIZE, 1)\n",
        "\n",
        "model = tf.keras.models.load_model(\"/content/gdrive/My Drive/tensor/models/4-conv-128-nodes-0-dense-1563393155\")\n",
        "\n",
        "prediction = model.predict([prepare('/content/gdrive/My Drive/tensor/predictions/DOG3.jpg')])\n",
        "\n",
        "print(prediction[0][0])\n",
        "print(CATEGORIES[int(round(prediction[0][0]))])\n",
        "\n"
      ],
      "execution_count": 0,
      "outputs": [
        {
          "output_type": "stream",
          "text": [
            "Drive already mounted at /content/gdrive; to attempt to forcibly remount, call drive.mount(\"/content/gdrive\", force_remount=True).\n",
            "1.0\n",
            "Cat\n"
          ],
          "name": "stdout"
        }
      ]
    }
  ]
}