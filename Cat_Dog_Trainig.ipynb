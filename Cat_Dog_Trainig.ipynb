{
  "nbformat": 4,
  "nbformat_minor": 0,
  "metadata": {
    "colab": {
      "name": "Cat-Dog-Trainig.ipynb",
      "provenance": [],
      "collapsed_sections": [],
      "include_colab_link": true
    },
    "kernelspec": {
      "name": "python3",
      "display_name": "Python 3"
    },
    "accelerator": "GPU"
  },
  "cells": [
    {
      "cell_type": "markdown",
      "metadata": {
        "id": "view-in-github",
        "colab_type": "text"
      },
      "source": [
        "<a href=\"https://colab.research.google.com/github/merlindk/python-notebooks/blob/master/Cat_Dog_Trainig.ipynb\" target=\"_parent\"><img src=\"https://colab.research.google.com/assets/colab-badge.svg\" alt=\"Open In Colab\"/></a>"
      ]
    },
    {
      "cell_type": "code",
      "metadata": {
        "id": "xJuRzHlicFCZ",
        "colab_type": "code",
        "outputId": "db3e8e4e-d09e-43dc-e210-7bb81f572564",
        "colab": {
          "base_uri": "https://localhost:8080/",
          "height": 411
        }
      },
      "source": [
        "import pickle\n",
        "import tensorflow as tf\n",
        "from tensorflow.python.keras.models import Sequential\n",
        "from tensorflow.python.keras.layers import Dense, Dropout, Activation, Flatten\n",
        "from tensorflow.python.keras.layers import Conv2D, MaxPooling2D\n",
        "from tensorflow.python.keras.callbacks import TensorBoard\n",
        "import time\n",
        "from google.colab import drive\n",
        "\n",
        "dense_layers = [0]\n",
        "layer_sizes = [128]\n",
        "conv_layers = [4]\n",
        "\n",
        "\n",
        "drive.mount('/content/gdrive')\n",
        "\n",
        "\n",
        "pickle_in = open(\"/content/gdrive/My Drive/tensor/dataset/X.pickle\", \"rb\")\n",
        "X = pickle.load(pickle_in)\n",
        "\n",
        "pickle_in = open(\"/content/gdrive/My Drive/tensor/dataset/y.pickle\", \"rb\")\n",
        "y = pickle.load(pickle_in)\n",
        "\n",
        "X = X/255.0\n",
        "\n",
        "for dense_layer in dense_layers:\n",
        "    for layer_size in layer_sizes:\n",
        "        for conv_layer in conv_layers:\n",
        "            NAME = \"{}-conv-{}-nodes-{}-dense-{}\".format(conv_layer, layer_size, dense_layer, int(time.time()))\n",
        "\n",
        "            model = Sequential()\n",
        "\n",
        "            model.add(Conv2D(layer_size, (3,3), input_shape=X.shape[1:]))\n",
        "            model.add(Activation('relu'))\n",
        "            model.add(MaxPooling2D(pool_size=(2,2)))\n",
        "\n",
        "            for i in range(conv_layer-1):\n",
        "                model.add(Conv2D(layer_size, (3,3)))\n",
        "                model.add(Activation('relu'))\n",
        "                model.add(MaxPooling2D(pool_size=(2,2)))\n",
        "\n",
        "            model.add(Flatten())\n",
        "\n",
        "            for j in range(dense_layer):\n",
        "                model.add(Dense(layer_size))\n",
        "                model.add(Activation('relu'))\n",
        "\n",
        "            model.add(Dense(1))\n",
        "            model.add(Activation('sigmoid'))\n",
        "\n",
        "            tensorboard = TensorBoard(log_dir=\"/content/gdrive/My Drive/tensor/logs/{}\".format(NAME))\n",
        "\n",
        "            model.compile(loss='binary_crossentropy',\n",
        "                          optimizer='adam',\n",
        "                          metrics=['accuracy'])\n",
        "\n",
        "            model.fit(X, y, batch_size=32,\n",
        "                      epochs=10,\n",
        "                      validation_split=0.3,\n",
        "                      callbacks=[tensorboard])\n",
        "          \n",
        "            model.save(\"/content/gdrive/My Drive/tensor/models/{}\".format(NAME))\n",
        "\n"
      ],
      "execution_count": 0,
      "outputs": [
        {
          "output_type": "stream",
          "text": [
            "Drive already mounted at /content/gdrive; to attempt to forcibly remount, call drive.mount(\"/content/gdrive\", force_remount=True).\n",
            "Train on 17462 samples, validate on 7484 samples\n",
            "Epoch 1/10\n",
            "17462/17462 [==============================] - 43s 2ms/sample - loss: 0.6483 - acc: 0.6110 - val_loss: 0.5610 - val_acc: 0.7153\n",
            "Epoch 2/10\n",
            "17462/17462 [==============================] - 42s 2ms/sample - loss: 0.5283 - acc: 0.7371 - val_loss: 0.5355 - val_acc: 0.7301\n",
            "Epoch 3/10\n",
            "17462/17462 [==============================] - 43s 2ms/sample - loss: 0.4453 - acc: 0.7932 - val_loss: 0.4469 - val_acc: 0.7827\n",
            "Epoch 4/10\n",
            "17462/17462 [==============================] - 43s 2ms/sample - loss: 0.3787 - acc: 0.8326 - val_loss: 0.3855 - val_acc: 0.8218\n",
            "Epoch 5/10\n",
            "17462/17462 [==============================] - 42s 2ms/sample - loss: 0.3229 - acc: 0.8605 - val_loss: 0.3673 - val_acc: 0.8390\n",
            "Epoch 6/10\n",
            "17462/17462 [==============================] - 42s 2ms/sample - loss: 0.2774 - acc: 0.8823 - val_loss: 0.4142 - val_acc: 0.8123\n",
            "Epoch 7/10\n",
            "17462/17462 [==============================] - 42s 2ms/sample - loss: 0.2323 - acc: 0.9035 - val_loss: 0.3591 - val_acc: 0.8390\n",
            "Epoch 8/10\n",
            "17462/17462 [==============================] - 42s 2ms/sample - loss: 0.1927 - acc: 0.9221 - val_loss: 0.3744 - val_acc: 0.8466\n",
            "Epoch 9/10\n",
            "17462/17462 [==============================] - 42s 2ms/sample - loss: 0.1494 - acc: 0.9412 - val_loss: 0.3937 - val_acc: 0.8465\n",
            "Epoch 10/10\n",
            "17462/17462 [==============================] - 43s 2ms/sample - loss: 0.1138 - acc: 0.9559 - val_loss: 0.4419 - val_acc: 0.8442\n"
          ],
          "name": "stdout"
        }
      ]
    }
  ]
}