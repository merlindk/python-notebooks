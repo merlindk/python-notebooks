{
  "nbformat": 4,
  "nbformat_minor": 0,
  "metadata": {
    "colab": {
      "name": "Lin Reg Brak Down.ipynb",
      "provenance": [],
      "authorship_tag": "ABX9TyO7Bi/P82rLC5lG/ufwSA18",
      "include_colab_link": true
    },
    "kernelspec": {
      "name": "python3",
      "display_name": "Python 3"
    }
  },
  "cells": [
    {
      "cell_type": "markdown",
      "metadata": {
        "id": "view-in-github",
        "colab_type": "text"
      },
      "source": [
        "<a href=\"https://colab.research.google.com/github/merlindk/python-notebooks/blob/master/Lin_Reg_Brak_Down.ipynb\" target=\"_parent\"><img src=\"https://colab.research.google.com/assets/colab-badge.svg\" alt=\"Open In Colab\"/></a>"
      ]
    },
    {
      "cell_type": "code",
      "metadata": {
        "id": "77MsXJDwZyQ_",
        "colab_type": "code",
        "outputId": "f8bc5305-0d46-4ce1-d14e-1c79b5f4f186",
        "colab": {
          "base_uri": "https://localhost:8080/",
          "height": 335
        }
      },
      "source": [
        "from statistics import mean\n",
        "import numpy as np\n",
        "import matplotlib.pyplot as plt\n",
        "from matplotlib import style\n",
        "\n",
        "style.use('fivethirtyeight')\n",
        "\n",
        "xs = np.array([1,2,3,4,5,6], dtype=np.float64)\n",
        "ys = np.array([5,4,6,5,6,7], dtype=np.float64)\n",
        "\n",
        "def best_fit_slope(xs, ys):\n",
        "  m = (((mean(xs) * mean(ys)) - (mean(xs * ys))) / \n",
        "      ((mean(xs)**2) - mean(xs**2)))\n",
        "  return m\n",
        "\n",
        "\n",
        "def intercept(xs, ys, m):\n",
        "  return (mean(ys)) - (m*mean(xs))\n",
        "\n",
        "def squared_error(ys_orig, ys_line):\n",
        "  return sum((ys_line - ys_orig)**2)\n",
        "\n",
        "def coefficient_of_determination(ys_orig, ys_line):\n",
        "  y_mean_line = [mean(ys_orig) for y in ys_orig]\n",
        "  squared_error_regr = squared_error(ys_orig, ys_line)\n",
        "  squared_error_y_mean = squared_error(ys_orig, y_mean_line)\n",
        "  return 1 - (squared_error_regr / squared_error_y_mean)\n",
        "\n",
        "m = best_fit_slope(xs, ys)\n",
        "\n",
        "b = intercept(xs, ys, m)\n",
        "\n",
        "regression_line = [(m*x) + b for x in xs]\n",
        "\n",
        "predict_x = 8\n",
        "predict_y = (m*predict_x) + b\n",
        "\n",
        "r_squared = coefficient_of_determination(ys, regression_line)\n",
        "print(r_squared)\n",
        "\n",
        "plt.scatter(xs, ys)\n",
        "plt.scatter(predict_x, predict_y, color='g')\n",
        "plt.plot(xs, regression_line)\n",
        "plt.show()"
      ],
      "execution_count": 0,
      "outputs": [
        {
          "output_type": "stream",
          "text": [
            "[5. 4. 6. 5. 6. 7.]\n",
            "[5.5, 5.5, 5.5, 5.5, 5.5, 5.5]\n",
            "0.5844155844155845\n"
          ],
          "name": "stdout"
        },
        {
          "output_type": "display_data",
          "data": {
            "image/png": "[encoded data removed]",
            "text/plain": [
              "<Figure size 432x288 with 1 Axes>"
            ]
          },
          "metadata": {
            "tags": []
          }
        }
      ]
    }
  ]
}