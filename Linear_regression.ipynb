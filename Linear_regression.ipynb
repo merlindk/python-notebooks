{
  "nbformat": 4,
  "nbformat_minor": 0,
  "metadata": {
    "colab": {
      "name": "Linear regression.ipynb",
      "provenance": [],
      "authorship_tag": "ABX9TyODD+WrVl39ovyQ1iUAghEN",
      "include_colab_link": true
    },
    "kernelspec": {
      "name": "python3",
      "display_name": "Python 3"
    }
  },
  "cells": [
    {
      "cell_type": "markdown",
      "metadata": {
        "id": "view-in-github",
        "colab_type": "text"
      },
      "source": [
        "<a href=\"https://colab.research.google.com/github/merlindk/python-notebooks/blob/master/Linear_regression.ipynb\" target=\"_parent\"><img src=\"https://colab.research.google.com/assets/colab-badge.svg\" alt=\"Open In Colab\"/></a>"
      ]
    },
    {
      "cell_type": "code",
      "metadata": {
        "id": "79RsCUT-5mAp",
        "colab_type": "code",
        "colab": {}
      },
      "source": [
        "import tensorflow.compat.v1 as tf\n",
        "tf.disable_v2_behavior()\n",
        "import numpy as np\n",
        "import math\n",
        "import matplotlib.pyplot as plt\n",
        "import matplotlib.animation as animation"
      ],
      "execution_count": 0,
      "outputs": []
    },
    {
      "cell_type": "code",
      "metadata": {
        "id": "k4P0diXg6o5i",
        "colab_type": "code",
        "outputId": "e6dd8cb1-492a-40a5-ba44-74e2da1c403e",
        "colab": {
          "base_uri": "https://localhost:8080/",
          "height": 279
        }
      },
      "source": [
        "num_house = 160\n",
        "np.random.seed(42)\n",
        "house_size = np.random.randint(low=1000, high=3500, size=num_house)\n",
        "\n",
        "np.random.seed(42)\n",
        "house_price = house_size * 100.0 + np.random.randint(low=20000, high=70000, size=num_house)\n",
        "\n",
        "plt.plot(house_size, house_price, \"bx\")\n",
        "plt.ylabel(\"Price\")\n",
        "plt.xlabel(\"Size\")\n",
        "plt.show()\n"
      ],
      "execution_count": 0,
      "outputs": [
        {
          "output_type": "display_data",
          "data": {
            "image/png": "[encoded data removed]",
            "text/plain": [
              "<Figure size 432x288 with 1 Axes>"
            ]
          },
          "metadata": {
            "tags": []
          }
        }
      ]
    },
    {
      "cell_type": "code",
      "metadata": {
        "id": "zmywuNh_-ZER",
        "colab_type": "code",
        "colab": {}
      },
      "source": [
        "def normalize(array):\n",
        "  return (array - array.mean()) / array.std()\n",
        "\n",
        "num_train_samples = math.floor(num_house * 0.7)\n",
        "\n",
        "train_house_size = np.asarray(house_size[:num_train_samples])\n",
        "train_price = np.asarray(house_price[:num_train_samples])\n",
        "\n",
        "train_house_size_norm = normalize(train_house_size)\n",
        "train_price_norm = normalize(train_price)\n",
        "\n",
        "test_house_size = np.array(house_size[num_train_samples:])\n",
        "test_house_price = np.array(house_price[num_train_samples:])\n",
        "\n",
        "test_house_size_norm = normalize(test_house_size)\n",
        "test_house_price_norm = normalize(test_house_price)"
      ],
      "execution_count": 0,
      "outputs": []
    },
    {
      "cell_type": "code",
      "metadata": {
        "id": "-7msF71o_qLM",
        "colab_type": "code",
        "colab": {}
      },
      "source": [
        "tf_house_size = tf.placeholder(\"float\", name=\"house_price\")\n",
        "tf_price = tf.placeholder(\"float\", name=\"price\")\n",
        "\n",
        "tf_size_factor = tf.Variable(np.random.randn(), name=\"size_factor\")\n",
        "tf_price_offset = tf.Variable(np.random.randn(), name=\"price_offset\")"
      ],
      "execution_count": 0,
      "outputs": []
    },
    {
      "cell_type": "code",
      "metadata": {
        "id": "f3BLZqb4A-lZ",
        "colab_type": "code",
        "outputId": "674f536a-fb71-4394-fcfc-92d41a130a7c",
        "colab": {
          "base_uri": "https://localhost:8080/",
          "height": 477
        }
      },
      "source": [
        "tf_price_pred = tf.add(tf.multiply(tf_size_factor, tf_house_size), tf_price_offset)\n",
        "\n",
        "tf_cost = tf.reduce_sum(tf.pow(tf_price_pred-tf_price, 2)) / (2*num_train_samples)\n",
        "\n",
        "learning_rate = 0.1\n",
        "\n",
        "optimizer = tf.train.GradientDescentOptimizer(learning_rate).minimize(tf_cost)\n",
        "\n",
        "init = tf.global_variables_initializer()\n",
        "\n",
        "with tf.Session() as sess:\n",
        "  sess.run(init)\n",
        "\n",
        "  display_every = 2\n",
        "  num_training_iter = 50\n",
        "  for iteration in range(num_training_iter):\n",
        "\n",
        "    for(x, y) in zip(train_house_size_norm, train_price_norm):\n",
        "      sess.run(optimizer, feed_dict={tf_house_size: x, tf_price: y})\n",
        "\n",
        "    if(iteration + 1) % display_every == 0:\n",
        "      c = sess.run(tf_cost, feed_dict={tf_house_size: train_house_size_norm, tf_price:train_price_norm})\n",
        "      print(\"iteration#:\", '%04d' % (iteration + 1), \"cost=\", \"{:.9f}\".format(c),  \"size_factor=\", sess.run(tf_size_factor), \"price_offset=\", sess.run(tf_price_offset))"
      ],
      "execution_count": 0,
      "outputs": [
        {
          "output_type": "stream",
          "text": [
            "iteration#: 0002 cost= 0.720058978 size_factor= 0.09177997 price_offset= -0.78197587\n",
            "iteration#: 0004 cost= 0.488989919 size_factor= 0.25305912 price_offset= -0.6400547\n",
            "iteration#: 0006 cost= 0.334198892 size_factor= 0.38506958 price_offset= -0.52387947\n",
            "iteration#: 0008 cost= 0.230510592 size_factor= 0.4931228 price_offset= -0.42877954\n",
            "iteration#: 0010 cost= 0.161057383 size_factor= 0.5815667 price_offset= -0.35093102\n",
            "iteration#: 0012 cost= 0.114538930 size_factor= 0.65396035 price_offset= -0.2872049\n",
            "iteration#: 0014 cost= 0.083384469 size_factor= 0.713216 price_offset= -0.23503916\n",
            "iteration#: 0016 cost= 0.062521778 size_factor= 0.76171756 price_offset= -0.19233663\n",
            "iteration#: 0018 cost= 0.048552584 size_factor= 0.8014175 price_offset= -0.1573807\n",
            "iteration#: 0020 cost= 0.039200630 size_factor= 0.8339127 price_offset= -0.1287661\n",
            "iteration#: 0022 cost= 0.032940891 size_factor= 0.86051065 price_offset= -0.10534229\n",
            "iteration#: 0024 cost= 0.028751854 size_factor= 0.882282 price_offset= -0.08616769\n",
            "iteration#: 0026 cost= 0.025949381 size_factor= 0.90010184 price_offset= -0.07047155\n",
            "iteration#: 0028 cost= 0.024075124 size_factor= 0.9146879 price_offset= -0.05762279\n",
            "iteration#: 0030 cost= 0.022822181 size_factor= 0.92662656 price_offset= -0.04710484\n",
            "iteration#: 0032 cost= 0.021984996 size_factor= 0.9363989 price_offset= -0.038494952\n",
            "iteration#: 0034 cost= 0.021425985 size_factor= 0.9443974 price_offset= -0.031446975\n",
            "iteration#: 0036 cost= 0.021052983 size_factor= 0.9509445 price_offset= -0.025677538\n",
            "iteration#: 0038 cost= 0.020804336 size_factor= 0.9563038 price_offset= -0.02095472\n",
            "iteration#: 0040 cost= 0.020638786 size_factor= 0.96069014 price_offset= -0.017088648\n",
            "iteration#: 0042 cost= 0.020528717 size_factor= 0.9642808 price_offset= -0.013923923\n",
            "iteration#: 0044 cost= 0.020455673 size_factor= 0.96721953 price_offset= -0.01133329\n",
            "iteration#: 0046 cost= 0.020407304 size_factor= 0.96962523 price_offset= -0.009212623\n",
            "iteration#: 0048 cost= 0.020375367 size_factor= 0.97159415 price_offset= -0.0074766623\n",
            "iteration#: 0050 cost= 0.020354357 size_factor= 0.97320557 price_offset= -0.006055611\n"
          ],
          "name": "stdout"
        }
      ]
    },
    {
      "cell_type": "code",
      "metadata": {
        "id": "KqEwadQHDb9F",
        "colab_type": "code",
        "colab": {}
      },
      "source": [
        ""
      ],
      "execution_count": 0,
      "outputs": []
    }
  ]
}